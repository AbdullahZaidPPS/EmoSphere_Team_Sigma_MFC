{
 "cells": [
  {
   "cell_type": "code",
   "execution_count": 5,
   "id": "06ccb61c-e27d-4664-81d2-84977c2e11ac",
   "metadata": {},
   "outputs": [],
   "source": [
    "from fer import FER\n",
    "from fer import Video\n",
    "import cv2"
   ]
  },
  {
   "cell_type": "code",
   "execution_count": 6,
   "id": "68f2d1c9-68c6-4669-a912-7d9f971656fe",
   "metadata": {},
   "outputs": [],
   "source": [
    "\n",
    "emotion_model = FER()\n",
    "video_capture = cv2.VideoCapture(0)  \n",
    "\n",
    "while True:\n",
    "    ret, frame = video_capture.read()\n",
    "\n",
    "    if not ret:\n",
    "        break\n",
    "\n",
    "    emotions = emotion_model.top_emotion(frame)\n",
    "\n",
    "    frame = cv2.putText(frame, emotions[0], (10, 10), cv2.FONT_HERSHEY_SIMPLEX, 0.5, (0, 0, 255), 2)\n",
    "    cv2.imshow('Emotion Detection', frame)\n",
    "\n",
    "    if cv2.waitKey(1) & 0xFF == 27: \n",
    "        break\n",
    "\n",
    "video_capture.release()\n",
    "cv2.destroyAllWindows()"
   ]
  },
  {
   "cell_type": "code",
   "execution_count": null,
   "id": "72cbe4f5-468f-4aa7-93d0-77f8142decf8",
   "metadata": {},
   "outputs": [],
   "source": []
  }
 ],
 "metadata": {
  "kernelspec": {
   "display_name": "Python 3 (ipykernel)",
   "language": "python",
   "name": "python3"
  },
  "language_info": {
   "codemirror_mode": {
    "name": "ipython",
    "version": 3
   },
   "file_extension": ".py",
   "mimetype": "text/x-python",
   "name": "python",
   "nbconvert_exporter": "python",
   "pygments_lexer": "ipython3",
   "version": "3.11.2"
  }
 },
 "nbformat": 4,
 "nbformat_minor": 5
}
